{
 "cells": [
  {
   "cell_type": "code",
   "execution_count": 40,
   "metadata": {},
   "outputs": [],
   "source": [
    "import pandas as pd"
   ]
  },
  {
   "cell_type": "code",
   "execution_count": 41,
   "metadata": {},
   "outputs": [],
   "source": [
    "df = pd.read_csv('A8-E2_Groceries.csv')"
   ]
  },
  {
   "cell_type": "code",
   "execution_count": 42,
   "metadata": {},
   "outputs": [
    {
     "data": {
      "text/html": [
       "<div>\n",
       "<style scoped>\n",
       "    .dataframe tbody tr th:only-of-type {\n",
       "        vertical-align: middle;\n",
       "    }\n",
       "\n",
       "    .dataframe tbody tr th {\n",
       "        vertical-align: top;\n",
       "    }\n",
       "\n",
       "    .dataframe thead th {\n",
       "        text-align: right;\n",
       "    }\n",
       "</style>\n",
       "<table border=\"1\" class=\"dataframe\">\n",
       "  <thead>\n",
       "    <tr style=\"text-align: right;\">\n",
       "      <th></th>\n",
       "      <th>Member_number</th>\n",
       "      <th>Date</th>\n",
       "      <th>itemDescription</th>\n",
       "    </tr>\n",
       "  </thead>\n",
       "  <tbody>\n",
       "    <tr>\n",
       "      <th>0</th>\n",
       "      <td>1808</td>\n",
       "      <td>21-07-2015</td>\n",
       "      <td>tropical fruit</td>\n",
       "    </tr>\n",
       "    <tr>\n",
       "      <th>1</th>\n",
       "      <td>2552</td>\n",
       "      <td>05-01-2015</td>\n",
       "      <td>whole milk</td>\n",
       "    </tr>\n",
       "    <tr>\n",
       "      <th>2</th>\n",
       "      <td>2300</td>\n",
       "      <td>19-09-2015</td>\n",
       "      <td>pip fruit</td>\n",
       "    </tr>\n",
       "    <tr>\n",
       "      <th>3</th>\n",
       "      <td>1187</td>\n",
       "      <td>12-12-2015</td>\n",
       "      <td>other vegetables</td>\n",
       "    </tr>\n",
       "    <tr>\n",
       "      <th>4</th>\n",
       "      <td>3037</td>\n",
       "      <td>01-02-2015</td>\n",
       "      <td>whole milk</td>\n",
       "    </tr>\n",
       "    <tr>\n",
       "      <th>...</th>\n",
       "      <td>...</td>\n",
       "      <td>...</td>\n",
       "      <td>...</td>\n",
       "    </tr>\n",
       "    <tr>\n",
       "      <th>38760</th>\n",
       "      <td>4471</td>\n",
       "      <td>08-10-2014</td>\n",
       "      <td>sliced cheese</td>\n",
       "    </tr>\n",
       "    <tr>\n",
       "      <th>38761</th>\n",
       "      <td>2022</td>\n",
       "      <td>23-02-2014</td>\n",
       "      <td>candy</td>\n",
       "    </tr>\n",
       "    <tr>\n",
       "      <th>38762</th>\n",
       "      <td>1097</td>\n",
       "      <td>16-04-2014</td>\n",
       "      <td>cake bar</td>\n",
       "    </tr>\n",
       "    <tr>\n",
       "      <th>38763</th>\n",
       "      <td>1510</td>\n",
       "      <td>03-12-2014</td>\n",
       "      <td>fruit/vegetable juice</td>\n",
       "    </tr>\n",
       "    <tr>\n",
       "      <th>38764</th>\n",
       "      <td>1521</td>\n",
       "      <td>26-12-2014</td>\n",
       "      <td>cat food</td>\n",
       "    </tr>\n",
       "  </tbody>\n",
       "</table>\n",
       "<p>38765 rows × 3 columns</p>\n",
       "</div>"
      ],
      "text/plain": [
       "       Member_number        Date        itemDescription\n",
       "0               1808  21-07-2015         tropical fruit\n",
       "1               2552  05-01-2015             whole milk\n",
       "2               2300  19-09-2015              pip fruit\n",
       "3               1187  12-12-2015       other vegetables\n",
       "4               3037  01-02-2015             whole milk\n",
       "...              ...         ...                    ...\n",
       "38760           4471  08-10-2014          sliced cheese\n",
       "38761           2022  23-02-2014                  candy\n",
       "38762           1097  16-04-2014               cake bar\n",
       "38763           1510  03-12-2014  fruit/vegetable juice\n",
       "38764           1521  26-12-2014               cat food\n",
       "\n",
       "[38765 rows x 3 columns]"
      ]
     },
     "execution_count": 42,
     "metadata": {},
     "output_type": "execute_result"
    }
   ],
   "source": [
    "df"
   ]
  },
  {
   "cell_type": "code",
   "execution_count": 43,
   "metadata": {},
   "outputs": [
    {
     "name": "stdout",
     "output_type": "stream",
     "text": [
      "<class 'pandas.core.frame.DataFrame'>\n",
      "RangeIndex: 38765 entries, 0 to 38764\n",
      "Data columns (total 3 columns):\n",
      " #   Column           Non-Null Count  Dtype \n",
      "---  ------           --------------  ----- \n",
      " 0   Member_number    38765 non-null  int64 \n",
      " 1   Date             38765 non-null  object\n",
      " 2   itemDescription  38765 non-null  object\n",
      "dtypes: int64(1), object(2)\n",
      "memory usage: 908.7+ KB\n"
     ]
    }
   ],
   "source": [
    "df.info()"
   ]
  },
  {
   "cell_type": "code",
   "execution_count": 44,
   "metadata": {},
   "outputs": [
    {
     "data": {
      "text/plain": [
       "Date        Member_number  itemDescription\n",
       "11-03-2015  1994           whole milk         4\n",
       "23-12-2015  3679           domestic eggs      3\n",
       "10-01-2015  4981           margarine          3\n",
       "10-05-2015  2294           rolls/buns         3\n",
       "28-06-2015  1370           whole milk         3\n",
       "                                             ..\n",
       "11-04-2014  2045           yogurt             1\n",
       "            2151           shopping bags      1\n",
       "                           tropical fruit     1\n",
       "            2274           beef               1\n",
       "31-10-2015  4934           curd               1\n",
       "Name: count, Length: 38006, dtype: int64"
      ]
     },
     "execution_count": 44,
     "metadata": {},
     "output_type": "execute_result"
    }
   ],
   "source": [
    "df[['Date', 'Member_number', 'itemDescription']].value_counts()"
   ]
  },
  {
   "cell_type": "code",
   "execution_count": 45,
   "metadata": {},
   "outputs": [
    {
     "data": {
      "text/plain": [
       "itemDescription\n",
       "whole milk               2502\n",
       "other vegetables         1898\n",
       "rolls/buns               1716\n",
       "soda                     1514\n",
       "yogurt                   1334\n",
       "                         ... \n",
       "rubbing alcohol             5\n",
       "bags                        4\n",
       "baby cosmetics              3\n",
       "kitchen utensil             1\n",
       "preservation products       1\n",
       "Name: count, Length: 167, dtype: int64"
      ]
     },
     "execution_count": 45,
     "metadata": {},
     "output_type": "execute_result"
    }
   ],
   "source": [
    "df['itemDescription'].value_counts()"
   ]
  },
  {
   "cell_type": "code",
   "execution_count": 46,
   "metadata": {},
   "outputs": [
    {
     "data": {
      "text/plain": [
       "Date\n",
       "21-01-2015    96\n",
       "21-07-2015    93\n",
       "29-11-2015    92\n",
       "08-08-2015    92\n",
       "30-04-2015    91\n",
       "              ..\n",
       "29-06-2014    26\n",
       "04-07-2014    24\n",
       "16-03-2015    23\n",
       "17-03-2015    23\n",
       "01-09-2015    22\n",
       "Name: count, Length: 728, dtype: int64"
      ]
     },
     "execution_count": 46,
     "metadata": {},
     "output_type": "execute_result"
    }
   ],
   "source": [
    "df['Date'].value_counts()"
   ]
  },
  {
   "cell_type": "code",
   "execution_count": 47,
   "metadata": {},
   "outputs": [
    {
     "data": {
      "text/plain": [
       "Member_number\n",
       "3180    36\n",
       "3737    33\n",
       "3050    33\n",
       "2051    33\n",
       "2625    31\n",
       "        ..\n",
       "2503     2\n",
       "3301     2\n",
       "1775     2\n",
       "3723     2\n",
       "2417     2\n",
       "Name: count, Length: 3898, dtype: int64"
      ]
     },
     "execution_count": 47,
     "metadata": {},
     "output_type": "execute_result"
    }
   ],
   "source": [
    "df['Member_number'].value_counts()"
   ]
  },
  {
   "cell_type": "markdown",
   "metadata": {},
   "source": [
    "Total unique members is 3898 and total dates is span between 2014 start to end of 2015 i.e 728 days and there is total 167 unique items. "
   ]
  },
  {
   "cell_type": "code",
   "execution_count": 48,
   "metadata": {},
   "outputs": [
    {
     "data": {
      "text/plain": [
       "Date        Member_number\n",
       "12-07-2015  1780             11\n",
       "06-08-2015  3741              9\n",
       "03-05-2015  1404              9\n",
       "29-06-2015  4939              9\n",
       "28-08-2015  4207              9\n",
       "                             ..\n",
       "13-05-2014  1666              2\n",
       "            2100              2\n",
       "            2144              2\n",
       "            2218              2\n",
       "31-10-2015  4934              2\n",
       "Name: count, Length: 14963, dtype: int64"
      ]
     },
     "execution_count": 48,
     "metadata": {},
     "output_type": "execute_result"
    }
   ],
   "source": [
    "df[['Date', 'Member_number']].value_counts()"
   ]
  },
  {
   "cell_type": "markdown",
   "metadata": {},
   "source": [
    "On single day means at that moment how many together things as the member bought.\n",
    "Means there are total 14963 unique transactions."
   ]
  },
  {
   "cell_type": "code",
   "execution_count": 49,
   "metadata": {},
   "outputs": [
    {
     "data": {
      "text/html": [
       "<div>\n",
       "<style scoped>\n",
       "    .dataframe tbody tr th:only-of-type {\n",
       "        vertical-align: middle;\n",
       "    }\n",
       "\n",
       "    .dataframe tbody tr th {\n",
       "        vertical-align: top;\n",
       "    }\n",
       "\n",
       "    .dataframe thead th {\n",
       "        text-align: right;\n",
       "    }\n",
       "</style>\n",
       "<table border=\"1\" class=\"dataframe\">\n",
       "  <thead>\n",
       "    <tr style=\"text-align: right;\">\n",
       "      <th></th>\n",
       "      <th>Member_number</th>\n",
       "      <th>Date</th>\n",
       "      <th>itemDescription</th>\n",
       "    </tr>\n",
       "  </thead>\n",
       "  <tbody>\n",
       "    <tr>\n",
       "      <th>2180</th>\n",
       "      <td>1780</td>\n",
       "      <td>12-07-2015</td>\n",
       "      <td>pip fruit</td>\n",
       "    </tr>\n",
       "    <tr>\n",
       "      <th>6706</th>\n",
       "      <td>1780</td>\n",
       "      <td>12-07-2015</td>\n",
       "      <td>curd</td>\n",
       "    </tr>\n",
       "    <tr>\n",
       "      <th>7557</th>\n",
       "      <td>1780</td>\n",
       "      <td>12-07-2015</td>\n",
       "      <td>specialty bar</td>\n",
       "    </tr>\n",
       "    <tr>\n",
       "      <th>7911</th>\n",
       "      <td>1780</td>\n",
       "      <td>12-07-2015</td>\n",
       "      <td>beverages</td>\n",
       "    </tr>\n",
       "    <tr>\n",
       "      <th>8513</th>\n",
       "      <td>1780</td>\n",
       "      <td>12-07-2015</td>\n",
       "      <td>sausage</td>\n",
       "    </tr>\n",
       "    <tr>\n",
       "      <th>18329</th>\n",
       "      <td>1780</td>\n",
       "      <td>12-07-2015</td>\n",
       "      <td>soft cheese</td>\n",
       "    </tr>\n",
       "    <tr>\n",
       "      <th>22855</th>\n",
       "      <td>1780</td>\n",
       "      <td>12-07-2015</td>\n",
       "      <td>rolls/buns</td>\n",
       "    </tr>\n",
       "    <tr>\n",
       "      <th>23706</th>\n",
       "      <td>1780</td>\n",
       "      <td>12-07-2015</td>\n",
       "      <td>yogurt</td>\n",
       "    </tr>\n",
       "    <tr>\n",
       "      <th>24060</th>\n",
       "      <td>1780</td>\n",
       "      <td>12-07-2015</td>\n",
       "      <td>other vegetables</td>\n",
       "    </tr>\n",
       "    <tr>\n",
       "      <th>24662</th>\n",
       "      <td>1780</td>\n",
       "      <td>12-07-2015</td>\n",
       "      <td>curd</td>\n",
       "    </tr>\n",
       "    <tr>\n",
       "      <th>32299</th>\n",
       "      <td>1780</td>\n",
       "      <td>12-07-2015</td>\n",
       "      <td>newspapers</td>\n",
       "    </tr>\n",
       "  </tbody>\n",
       "</table>\n",
       "</div>"
      ],
      "text/plain": [
       "       Member_number        Date   itemDescription\n",
       "2180            1780  12-07-2015         pip fruit\n",
       "6706            1780  12-07-2015              curd\n",
       "7557            1780  12-07-2015     specialty bar\n",
       "7911            1780  12-07-2015         beverages\n",
       "8513            1780  12-07-2015           sausage\n",
       "18329           1780  12-07-2015       soft cheese\n",
       "22855           1780  12-07-2015        rolls/buns\n",
       "23706           1780  12-07-2015            yogurt\n",
       "24060           1780  12-07-2015  other vegetables\n",
       "24662           1780  12-07-2015              curd\n",
       "32299           1780  12-07-2015        newspapers"
      ]
     },
     "execution_count": 49,
     "metadata": {},
     "output_type": "execute_result"
    }
   ],
   "source": [
    "df[(df['Member_number'] == 1780) & (df['Date']== '12-07-2015')] # This items are bought together."
   ]
  },
  {
   "cell_type": "markdown",
   "metadata": {},
   "source": [
    "We need to create a new dataframe with columns \"Transaction\" and \"ItemsBought\" there will be 14963 rows"
   ]
  },
  {
   "cell_type": "code",
   "execution_count": null,
   "metadata": {},
   "outputs": [],
   "source": [
    "# to create a df with "
   ]
  },
  {
   "cell_type": "code",
   "execution_count": 50,
   "metadata": {},
   "outputs": [],
   "source": [
    "df['Date2'] = pd.to_datetime(df['Date'], format='%d-%m-%Y')"
   ]
  },
  {
   "cell_type": "code",
   "execution_count": 51,
   "metadata": {},
   "outputs": [
    {
     "name": "stdout",
     "output_type": "stream",
     "text": [
      "2015-12-30 00:00:00\n",
      "2014-01-01 00:00:00\n"
     ]
    }
   ],
   "source": [
    "print(max(df['Date2']))\n",
    "print(min(df['Date2'])) # total 728 unique dates."
   ]
  },
  {
   "cell_type": "code",
   "execution_count": 52,
   "metadata": {},
   "outputs": [
    {
     "data": {
      "text/html": [
       "<div>\n",
       "<style scoped>\n",
       "    .dataframe tbody tr th:only-of-type {\n",
       "        vertical-align: middle;\n",
       "    }\n",
       "\n",
       "    .dataframe tbody tr th {\n",
       "        vertical-align: top;\n",
       "    }\n",
       "\n",
       "    .dataframe thead th {\n",
       "        text-align: right;\n",
       "    }\n",
       "</style>\n",
       "<table border=\"1\" class=\"dataframe\">\n",
       "  <thead>\n",
       "    <tr style=\"text-align: right;\">\n",
       "      <th></th>\n",
       "      <th>Member_number</th>\n",
       "      <th>Date</th>\n",
       "      <th>itemDescription</th>\n",
       "    </tr>\n",
       "  </thead>\n",
       "  <tbody>\n",
       "    <tr>\n",
       "      <th>10065</th>\n",
       "      <td>1249</td>\n",
       "      <td>01-01-2014</td>\n",
       "      <td>citrus fruit</td>\n",
       "    </tr>\n",
       "    <tr>\n",
       "      <th>26214</th>\n",
       "      <td>1249</td>\n",
       "      <td>01-01-2014</td>\n",
       "      <td>coffee</td>\n",
       "    </tr>\n",
       "    <tr>\n",
       "      <th>15338</th>\n",
       "      <td>1381</td>\n",
       "      <td>01-01-2014</td>\n",
       "      <td>curd</td>\n",
       "    </tr>\n",
       "    <tr>\n",
       "      <th>31487</th>\n",
       "      <td>1381</td>\n",
       "      <td>01-01-2014</td>\n",
       "      <td>soda</td>\n",
       "    </tr>\n",
       "    <tr>\n",
       "      <th>11134</th>\n",
       "      <td>1440</td>\n",
       "      <td>01-01-2014</td>\n",
       "      <td>other vegetables</td>\n",
       "    </tr>\n",
       "    <tr>\n",
       "      <th>...</th>\n",
       "      <td>...</td>\n",
       "      <td>...</td>\n",
       "      <td>...</td>\n",
       "    </tr>\n",
       "    <tr>\n",
       "      <th>17777</th>\n",
       "      <td>4058</td>\n",
       "      <td>30-12-2015</td>\n",
       "      <td>cream cheese</td>\n",
       "    </tr>\n",
       "    <tr>\n",
       "      <th>557</th>\n",
       "      <td>4565</td>\n",
       "      <td>30-12-2015</td>\n",
       "      <td>canned beer</td>\n",
       "    </tr>\n",
       "    <tr>\n",
       "      <th>16706</th>\n",
       "      <td>4565</td>\n",
       "      <td>30-12-2015</td>\n",
       "      <td>canned beer</td>\n",
       "    </tr>\n",
       "    <tr>\n",
       "      <th>1134</th>\n",
       "      <td>4863</td>\n",
       "      <td>30-12-2015</td>\n",
       "      <td>dessert</td>\n",
       "    </tr>\n",
       "    <tr>\n",
       "      <th>17283</th>\n",
       "      <td>4863</td>\n",
       "      <td>30-12-2015</td>\n",
       "      <td>curd</td>\n",
       "    </tr>\n",
       "  </tbody>\n",
       "</table>\n",
       "<p>38765 rows × 3 columns</p>\n",
       "</div>"
      ],
      "text/plain": [
       "       Member_number        Date   itemDescription\n",
       "10065           1249  01-01-2014      citrus fruit\n",
       "26214           1249  01-01-2014            coffee\n",
       "15338           1381  01-01-2014              curd\n",
       "31487           1381  01-01-2014              soda\n",
       "11134           1440  01-01-2014  other vegetables\n",
       "...              ...         ...               ...\n",
       "17777           4058  30-12-2015      cream cheese\n",
       "557             4565  30-12-2015       canned beer\n",
       "16706           4565  30-12-2015       canned beer\n",
       "1134            4863  30-12-2015           dessert\n",
       "17283           4863  30-12-2015              curd\n",
       "\n",
       "[38765 rows x 3 columns]"
      ]
     },
     "execution_count": 52,
     "metadata": {},
     "output_type": "execute_result"
    }
   ],
   "source": [
    "# sorting the dataframe by date\n",
    "df.sort_values(by=['Date2','Member_number'], inplace=True)\n",
    "df[['Member_number','Date','itemDescription']]"
   ]
  },
  {
   "cell_type": "code",
   "execution_count": 53,
   "metadata": {},
   "outputs": [],
   "source": [
    "df[\"Transaction\"] = \"T\" + (df.groupby([\"Member_number\", \"Date2\"]).ngroup() + 1).astype(str)"
   ]
  },
  {
   "cell_type": "code",
   "execution_count": 54,
   "metadata": {},
   "outputs": [
    {
     "data": {
      "text/plain": [
       "Transaction\n",
       "T2869     11\n",
       "T845       9\n",
       "T4424      9\n",
       "T6289      9\n",
       "T14757     9\n",
       "          ..\n",
       "T11550     2\n",
       "T12106     2\n",
       "T12974     2\n",
       "T13092     2\n",
       "T14497     2\n",
       "Name: count, Length: 14963, dtype: int64"
      ]
     },
     "execution_count": 54,
     "metadata": {},
     "output_type": "execute_result"
    }
   ],
   "source": [
    "df['Transaction'].value_counts()"
   ]
  },
  {
   "cell_type": "code",
   "execution_count": 55,
   "metadata": {},
   "outputs": [
    {
     "data": {
      "text/plain": [
       "Transaction        14963\n",
       "itemDescription      167\n",
       "dtype: int64"
      ]
     },
     "execution_count": 55,
     "metadata": {},
     "output_type": "execute_result"
    }
   ],
   "source": [
    "df[['Transaction', 'itemDescription']].nunique()"
   ]
  },
  {
   "cell_type": "code",
   "execution_count": 56,
   "metadata": {},
   "outputs": [
    {
     "name": "stdout",
     "output_type": "stream",
     "text": [
      "      Transaction                                              Items\n",
      "0              T1                    whole milk, pastry, salty snack\n",
      "1             T10                                  frankfurter, curd\n",
      "2            T100          root vegetables, long life bakery product\n",
      "3           T1000  photo/film, whole milk, yogurt, whole milk, wh...\n",
      "4          T10000                 newspapers, rolls/buns, newspapers\n",
      "...           ...                                                ...\n",
      "14958       T9995       shopping bags, newspapers, curd, hard cheese\n",
      "14959       T9996                             bottled water, tidbits\n",
      "14960       T9997   specialty bar, candy, root vegetables, ice cream\n",
      "14961       T9998                                 pork, frozen meals\n",
      "14962       T9999                      canned beer, other vegetables\n",
      "\n",
      "[14963 rows x 2 columns]\n"
     ]
    }
   ],
   "source": [
    "new_df = df.groupby(\"Transaction\")[\"itemDescription\"].apply(lambda x: \", \".join(x)).reset_index()\n",
    "\n",
    "# Renaming columns\n",
    "new_df.columns = [\"Transaction\", \"Items\"]\n",
    "\n",
    "# Display the result\n",
    "print(new_df)"
   ]
  },
  {
   "cell_type": "code",
   "execution_count": 69,
   "metadata": {},
   "outputs": [
    {
     "name": "stdout",
     "output_type": "stream",
     "text": [
      "Frequent Itemsets:\n",
      "      support                        itemsets\n",
      "0   0.021386                      (UHT-milk)\n",
      "1   0.033950                          (beef)\n",
      "2   0.021787                       (berries)\n",
      "3   0.016574                     (beverages)\n",
      "4   0.045312                  (bottled beer)\n",
      "..       ...                             ...\n",
      "64  0.010559  (rolls/buns, other vegetables)\n",
      "65  0.014837  (whole milk, other vegetables)\n",
      "66  0.013968        (rolls/buns, whole milk)\n",
      "67  0.011629              (whole milk, soda)\n",
      "68  0.011161            (whole milk, yogurt)\n",
      "\n",
      "[69 rows x 2 columns]\n",
      "\n",
      "Association Rules:\n",
      "           antecedents         consequents  antecedent support  \\\n",
      "0        (rolls/buns)  (other vegetables)            0.110005   \n",
      "1  (other vegetables)        (rolls/buns)            0.122101   \n",
      "2        (whole milk)  (other vegetables)            0.157923   \n",
      "3  (other vegetables)        (whole milk)            0.122101   \n",
      "4        (rolls/buns)        (whole milk)            0.110005   \n",
      "5        (whole milk)        (rolls/buns)            0.157923   \n",
      "6        (whole milk)              (soda)            0.157923   \n",
      "7              (soda)        (whole milk)            0.097106   \n",
      "8        (whole milk)            (yogurt)            0.157923   \n",
      "9            (yogurt)        (whole milk)            0.085879   \n",
      "\n",
      "   consequent support   support  confidence      lift  representativity  \\\n",
      "0            0.122101  0.010559    0.095990  0.786154               1.0   \n",
      "1            0.110005  0.010559    0.086481  0.786154               1.0   \n",
      "2            0.122101  0.014837    0.093948  0.769430               1.0   \n",
      "3            0.157923  0.014837    0.121511  0.769430               1.0   \n",
      "4            0.157923  0.013968    0.126974  0.804028               1.0   \n",
      "5            0.110005  0.013968    0.088447  0.804028               1.0   \n",
      "6            0.097106  0.011629    0.073635  0.758296               1.0   \n",
      "7            0.157923  0.011629    0.119752  0.758296               1.0   \n",
      "8            0.085879  0.011161    0.070673  0.822940               1.0   \n",
      "9            0.157923  0.011161    0.129961  0.822940               1.0   \n",
      "\n",
      "   leverage  conviction  zhangs_metric   jaccard  certainty  kulczynski  \n",
      "0 -0.002872    0.971117      -0.234091  0.047662  -0.029742    0.091235  \n",
      "1 -0.002872    0.974249      -0.236553  0.047662  -0.026432    0.091235  \n",
      "2 -0.004446    0.968928      -0.262461  0.055948  -0.032068    0.107730  \n",
      "3 -0.004446    0.958551      -0.254477  0.055948  -0.043241    0.107730  \n",
      "4 -0.003404    0.964550      -0.214986  0.055000  -0.036752    0.107711  \n",
      "5 -0.003404    0.976350      -0.224474  0.055000  -0.024222    0.107711  \n",
      "6 -0.003707    0.974663      -0.274587  0.047776  -0.025995    0.096694  \n",
      "7 -0.003707    0.956636      -0.260917  0.047776  -0.045329    0.096694  \n",
      "8 -0.002401    0.983638      -0.203508  0.047975  -0.016634    0.100317  \n",
      "9 -0.002401    0.967861      -0.190525  0.047975  -0.033206    0.100317  \n"
     ]
    }
   ],
   "source": [
    "import pandas as pd\n",
    "from mlxtend.frequent_patterns import apriori, association_rules\n",
    "from mlxtend.preprocessing import TransactionEncoder\n",
    "\n",
    "# Load the dataset (assuming it's stored as a CSV file)\n",
    "# new_df = pd.read_csv(\"transactions.csv\")  # Replace with your actual file\n",
    "\n",
    "# Convert 'Items' column into a list of lists (transactions format)\n",
    "transactions = new_df[\"Items\"].apply(lambda x: x.split(\", \")).tolist()\n",
    "\n",
    "# Convert transactions into a one-hot encoded DataFrame\n",
    "te = TransactionEncoder()\n",
    "te_ary = te.fit(transactions).transform(transactions)\n",
    "new_df_encoded = pd.DataFrame(te_ary, columns=te.columns_)\n",
    "\n",
    "# Apply the Apriori algorithm to find frequent itemsets\n",
    "frequent_itemsets = apriori(new_df_encoded, min_support=0.01, use_colnames=True)\n",
    "\n",
    "# Generate association rules\n",
    "rules = association_rules(frequent_itemsets, metric=\"lift\", min_threshold=0.2)\n",
    "\n",
    "# Display results\n",
    "print(\"Frequent Itemsets:\\n\", frequent_itemsets)\n",
    "print(\"\\nAssociation Rules:\\n\", rules)\n"
   ]
  },
  {
   "cell_type": "code",
   "execution_count": 70,
   "metadata": {},
   "outputs": [
    {
     "name": "stdout",
     "output_type": "stream",
     "text": [
      "          antecedents         consequents   support  confidence      lift\n",
      "0        (rolls/buns)  (other vegetables)  0.010559    0.095990  0.786154\n",
      "1  (other vegetables)        (rolls/buns)  0.010559    0.086481  0.786154\n",
      "2        (whole milk)  (other vegetables)  0.014837    0.093948  0.769430\n",
      "3  (other vegetables)        (whole milk)  0.014837    0.121511  0.769430\n",
      "4        (rolls/buns)        (whole milk)  0.013968    0.126974  0.804028\n",
      "5        (whole milk)        (rolls/buns)  0.013968    0.088447  0.804028\n",
      "6        (whole milk)              (soda)  0.011629    0.073635  0.758296\n",
      "7              (soda)        (whole milk)  0.011629    0.119752  0.758296\n",
      "8        (whole milk)            (yogurt)  0.011161    0.070673  0.822940\n",
      "9            (yogurt)        (whole milk)  0.011161    0.129961  0.822940\n"
     ]
    }
   ],
   "source": [
    "print(rules[['antecedents', 'consequents', 'support', 'confidence', 'lift']])\n"
   ]
  },
  {
   "cell_type": "code",
   "execution_count": null,
   "metadata": {},
   "outputs": [],
   "source": [
    "# rules = rules[rules['confidence'] > 0.2]  # Keep only strong rules\n"
   ]
  },
  {
   "cell_type": "code",
   "execution_count": null,
   "metadata": {},
   "outputs": [
    {
     "name": "stdout",
     "output_type": "stream",
     "text": [
      "Empty DataFrame\n",
      "Columns: [antecedents, consequents, support, confidence, lift]\n",
      "Index: []\n"
     ]
    }
   ],
   "source": [
    "# print(rules[['antecedents', 'consequents', 'support', 'confidence', 'lift']])\n"
   ]
  },
  {
   "cell_type": "code",
   "execution_count": null,
   "metadata": {},
   "outputs": [],
   "source": []
  }
 ],
 "metadata": {
  "kernelspec": {
   "display_name": "Python 3",
   "language": "python",
   "name": "python3"
  },
  "language_info": {
   "codemirror_mode": {
    "name": "ipython",
    "version": 3
   },
   "file_extension": ".py",
   "mimetype": "text/x-python",
   "name": "python",
   "nbconvert_exporter": "python",
   "pygments_lexer": "ipython3",
   "version": "3.11.1"
  }
 },
 "nbformat": 4,
 "nbformat_minor": 2
}
